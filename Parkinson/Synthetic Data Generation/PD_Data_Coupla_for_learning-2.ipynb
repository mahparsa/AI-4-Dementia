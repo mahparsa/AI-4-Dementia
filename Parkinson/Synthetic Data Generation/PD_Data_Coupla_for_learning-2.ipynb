{
  "cells": [
    {
      "cell_type": "markdown",
      "metadata": {
        "id": "nZTu7KAqzX27"
      },
      "source": [
        "\n",
        "*   List item\n",
        "*   List item\n",
        "\n"
      ]
    },
    {
      "cell_type": "code",
      "execution_count": null,
      "metadata": {
        "colab": {
          "base_uri": "https://localhost:8080/"
        },
        "id": "t7pcW19CF0Pd",
        "outputId": "bfd60a08-9474-4115-a21c-c3480f73031d"
      },
      "outputs": [
        {
          "output_type": "stream",
          "name": "stdout",
          "text": [
            "Mounted at /content/drive\n"
          ]
        }
      ],
      "source": [
        "\n",
        "from google.colab import drive\n",
        "drive.mount('...')\n",
        "\n",
        "\n",
        "# Load data and prepare it for training\n",
        "file_path = \".../PD.xlsx\"\n"
      ]
    },
    {
      "cell_type": "code",
      "execution_count": null,
      "metadata": {
        "id": "V5X6fJiMvEaZ"
      },
      "outputs": [],
      "source": [
        "# Import Libraries"
      ]
    },
    {
      "cell_type": "code",
      "execution_count": null,
      "metadata": {
        "id": "iKAdx10jGAgN"
      },
      "outputs": [],
      "source": [
        "import pandas as pd\n",
        "import numpy as np\n",
        "from sklearn.metrics import accuracy_score, classification_report\n",
        "from imblearn.under_sampling import RandomUnderSampler\n",
        "import random"
      ]
    },
    {
      "cell_type": "code",
      "execution_count": null,
      "metadata": {
        "id": "Lu3phIKWvb9l"
      },
      "outputs": [],
      "source": [
        "#Load data"
      ]
    },
    {
      "cell_type": "code",
      "execution_count": null,
      "metadata": {
        "id": "CQnzAarWvTKz"
      },
      "outputs": [],
      "source": [
        "df = pd.read_excel(file_path)\n",
        "features = \t['mdvp_fo_hz','mdvp_fhi_hz', 'mdvp_flo_hz',\t'mdvp_jitter', \t'mdvp_jitter_abs', 'mdvp_rap', 'mdvp_ppq', 'jitter_ddp', 'mdvp_shimmer',\t'mdvp_shimmer_db',\t'shimmer_apq3',\t'shimmer_apq5',\t'mdvp_apq',\t'shimmer_dda',\t'nhr',\t'hnr', 'rpde',\t'dfa',\t'spread1',\t'spread2',\t'd2',\t'ppe'\t]\n",
        "X = df[features]\n",
        "y = df['status']"
      ]
    },
    {
      "cell_type": "code",
      "execution_count": null,
      "metadata": {
        "id": "tQUOOSSKvRkt"
      },
      "outputs": [],
      "source": [
        "#Spilt data to train and test sets"
      ]
    },
    {
      "cell_type": "code",
      "execution_count": null,
      "metadata": {
        "id": "Fliwz3jp6a5D"
      },
      "outputs": [],
      "source": [
        "Num_Test = 10\n",
        "Healthy_Index = []\n",
        "Healthy_Index = df[df['status']==False].index\n",
        "HI = Healthy_Index.to_list()\n",
        "Test_Healthy_Index = random.sample(HI, Num_Test)\n",
        "THI=Test_Healthy_Index\n",
        "HI2= [x for x in HI if x not in THI]\n",
        "Test_Healthy = df.loc[THI]\n",
        "Train_Healthy = df.loc[HI2]\n",
        "PD_Index = []\n",
        "PD_Index = df[df['status']== True].index\n",
        "PD_Index = PD_Index.to_list()\n",
        "Test_PD_Index = random.sample(PD_Index, Num_Test)\n",
        "TPD=Test_PD_Index\n",
        "PD_Index2= [x for x in PD_Index if x not in TPD]\n",
        "Test_PD = df.loc[TPD]\n",
        "Train_PD = df.loc[PD_Index2]"
      ]
    },
    {
      "cell_type": "code",
      "execution_count": null,
      "metadata": {
        "id": "vQHBaZzNM09I"
      },
      "outputs": [],
      "source": [
        "Testdata = pd.concat([Test_PD, Test_Healthy], ignore_index=True)"
      ]
    },
    {
      "cell_type": "code",
      "source": [
        "import os\n",
        "import pandas as pd\n",
        "df = pd.DataFrame(Testdata)\n",
        "# Specify the full path where you want to save the Excel file in Colab\n",
        "folder_path = \"../PD/\"\n",
        "file_name = 'PD_Test.xlsx'\n",
        "os.makedirs(folder_path, exist_ok = True)\n",
        "df.to_excel(os.path.join(folder_path, file_name), index=False)\n",
        "\n",
        "# Print a message indicating the file has been saved\n",
        "print(f\"Excel file saved at: {folder_path}{file_name}\")\n"
      ],
      "metadata": {
        "colab": {
          "base_uri": "https://localhost:8080/"
        },
        "id": "HOWTmqSvp0nW",
        "outputId": "fea3afe9-a0b6-4c1c-bd6b-c14bc83a9776"
      },
      "execution_count": null,
      "outputs": [
        {
          "output_type": "stream",
          "name": "stdout",
          "text": [
            "Excel file saved at: /content/drive/MyDrive/CIHR/PD/PD_Test.xlsx\n"
          ]
        }
      ]
    },
    {
      "cell_type": "code",
      "execution_count": null,
      "metadata": {
        "colab": {
          "base_uri": "https://localhost:8080/"
        },
        "id": "JitjId16zczB",
        "outputId": "c52871ca-20dc-4d52-b577-cd7adf1effa8"
      },
      "outputs": [
        {
          "output_type": "execute_result",
          "data": {
            "text/plain": [
              "175"
            ]
          },
          "metadata": {},
          "execution_count": 13
        }
      ],
      "source": [
        "Traindata = pd.concat([Train_PD,Train_Healthy], ignore_index=True)\n",
        "len(data)"
      ]
    },
    {
      "cell_type": "code",
      "source": [
        "\n",
        "df = pd.DataFrame(Traindata)\n",
        "# Specify the full path where you want to save the Excel file in Colab\n",
        "folder_path = \"../PD/\"\n",
        "file_name = 'PD_Train.xlsx'\n",
        "os.makedirs(folder_path, exist_ok = True)\n",
        "df.to_excel(os.path.join(folder_path, file_name), index=False)\n",
        "\n",
        "# Print a message indicating the file has been saved\n",
        "print(f\"Excel file saved at: {folder_path}{file_name}\")"
      ],
      "metadata": {
        "colab": {
          "base_uri": "https://localhost:8080/"
        },
        "id": "YaISM1vhvxaG",
        "outputId": "798ceb61-8115-49c8-c88c-b4ec068b3892"
      },
      "execution_count": null,
      "outputs": [
        {
          "output_type": "stream",
          "name": "stdout",
          "text": [
            "Excel file saved at: /content/drive/MyDrive/CIHR/PD/PD_Train.xlsx\n"
          ]
        }
      ]
    },
    {
      "cell_type": "code",
      "source": [
        "data = Traindata"
      ],
      "metadata": {
        "id": "i3_KJDP4wBfl"
      },
      "execution_count": null,
      "outputs": []
    },
    {
      "cell_type": "code",
      "execution_count": null,
      "metadata": {
        "colab": {
          "base_uri": "https://localhost:8080/"
        },
        "id": "T6y0hDzoyBDB",
        "outputId": "5871a123-94aa-4647-e639-c9299b128971"
      },
      "outputs": [
        {
          "output_type": "stream",
          "name": "stdout",
          "text": [
            "True     137\n",
            "False     38\n",
            "Name: status, dtype: int64\n"
          ]
        }
      ],
      "source": [
        "X = data[features]\n",
        "y = data['status']\n",
        "len(y)\n",
        "class_counts = pd.Series(y).value_counts()\n",
        "print(class_counts)"
      ]
    },
    {
      "cell_type": "code",
      "source": [
        "! pip install sdv"
      ],
      "metadata": {
        "id": "iyl-SFmOKcml"
      },
      "execution_count": null,
      "outputs": []
    },
    {
      "cell_type": "code",
      "source": [
        "from sdv.single_table import CopulaGANSynthesizer\n",
        "from sdv.metadata import SingleTableMetadata\n",
        "\n",
        "real_data = []\n",
        "real_data = X.join(y)\n",
        "metadata = SingleTableMetadata()\n",
        "metadata.detect_from_dataframe(data=real_data)\n",
        "synthesizer = CopulaGANSynthesizer(metadata)\n",
        "\n",
        "synthesizer.fit(real_data)\n",
        "synthetic_data = synthesizer.sample(num_rows=len(y))"
      ],
      "metadata": {
        "id": "upAD4nIYKa-1"
      },
      "execution_count": null,
      "outputs": []
    },
    {
      "cell_type": "code",
      "source": [
        "from sdv.evaluation.single_table import evaluate_quality\n",
        "\n",
        "quality_report = evaluate_quality(\n",
        "    real_data,\n",
        "    synthetic_data,\n",
        "    metadata)"
      ],
      "metadata": {
        "colab": {
          "base_uri": "https://localhost:8080/"
        },
        "id": "1pG2fpf7KuX0",
        "outputId": "2f678302-0c7b-4b9e-fc6f-f65c511bb4d8"
      },
      "execution_count": null,
      "outputs": [
        {
          "output_type": "stream",
          "name": "stdout",
          "text": [
            "Generating report ...\n",
            "(1/2) Evaluating Column Shapes: : 100%|██████████| 23/23 [00:00<00:00, 1020.62it/s]\n",
            "(2/2) Evaluating Column Pair Trends: : 100%|██████████| 253/253 [00:02<00:00, 94.64it/s]\n",
            "\n",
            "Overall Score: 67.94%\n",
            "\n",
            "Properties:\n",
            "- Column Shapes: 62.21%\n",
            "- Column Pair Trends: 73.67%\n"
          ]
        }
      ]
    },
    {
      "cell_type": "code",
      "source": [
        "New_data = real_data.append(synthetic_data, ignore_index=True)\n",
        "#New_data = real_data.concat(synthetic_data, ignore_index=True)\n",
        "New_data\n",
        "len(New_data)"
      ],
      "metadata": {
        "colab": {
          "base_uri": "https://localhost:8080/"
        },
        "id": "h2j4nuJTKzpu",
        "outputId": "555c0639-8cbd-4804-e838-92feaf39be45"
      },
      "execution_count": null,
      "outputs": [
        {
          "output_type": "stream",
          "name": "stderr",
          "text": [
            "<ipython-input-123-fd1b6b317d92>:1: FutureWarning: The frame.append method is deprecated and will be removed from pandas in a future version. Use pandas.concat instead.\n",
            "  New_data = real_data.append(synthetic_data, ignore_index=True)\n"
          ]
        },
        {
          "output_type": "execute_result",
          "data": {
            "text/plain": [
              "350"
            ]
          },
          "metadata": {},
          "execution_count": 123
        }
      ]
    },
    {
      "cell_type": "code",
      "source": [
        "df = pd.DataFrame(New_data)\n",
        "# Specify the full path where you want to save the Excel file in Colab\n",
        "folder_path = \"../PD/\"\n",
        "file_name = 'PD_CopulaGAN.xlsx'\n",
        "os.makedirs(folder_path, exist_ok = True)\n",
        "df.to_excel(os.path.join(folder_path, file_name), index=False)\n",
        "\n",
        "# Print a message indicating the file has been saved\n",
        "print(f\"Excel file saved at: {folder_path}{file_name}\")"
      ],
      "metadata": {
        "colab": {
          "base_uri": "https://localhost:8080/"
        },
        "id": "c5BNBvT4LJpI",
        "outputId": "e5c700a2-0a4f-42ef-b1f2-abc90103fc7d"
      },
      "execution_count": null,
      "outputs": [
        {
          "output_type": "stream",
          "name": "stdout",
          "text": [
            "Excel file saved at: /content/drive/MyDrive/CIHR/PD/PD_CopulaGAN.xlsx\n"
          ]
        }
      ]
    },
    {
      "cell_type": "markdown",
      "source": [],
      "metadata": {
        "id": "4DRedH17LbGh"
      }
    },
    {
      "cell_type": "code",
      "source": [
        "X = New_data[features]\n",
        "y =  New_data['status']\n",
        "class_counts = pd.Series(y).value_counts()\n",
        "print(class_counts)"
      ],
      "metadata": {
        "colab": {
          "base_uri": "https://localhost:8080/"
        },
        "id": "CDylp45QLV_6",
        "outputId": "2bc03ca6-c52b-4217-94e1-fa0ecad8ac70"
      },
      "execution_count": null,
      "outputs": [
        {
          "output_type": "stream",
          "name": "stdout",
          "text": [
            "True     208\n",
            "False    142\n",
            "Name: status, dtype: int64\n"
          ]
        }
      ]
    },
    {
      "cell_type": "code",
      "source": [
        "from imblearn.under_sampling import NearMiss\n",
        "undersample = NearMiss(version=1, n_neighbors=3)\n",
        "# transform the dataset\n",
        "X_S, y_S = undersample.fit_resample(X, y)\n",
        "class_counts = pd.Series(y_S).value_counts()\n",
        "print(class_counts)\n",
        "NearMiss1_Data= pd.concat([X_S, y_S], axis =1)"
      ],
      "metadata": {
        "colab": {
          "base_uri": "https://localhost:8080/"
        },
        "id": "bkb2cGJqervQ",
        "outputId": "7fc00c45-04d6-4a59-eeac-0c4cfbd6944b"
      },
      "execution_count": null,
      "outputs": [
        {
          "output_type": "stream",
          "name": "stdout",
          "text": [
            "False    142\n",
            "True     142\n",
            "Name: status, dtype: int64\n"
          ]
        }
      ]
    },
    {
      "cell_type": "code",
      "source": [
        "df = pd.DataFrame(NearMiss1_Data)\n",
        "# Specify the full path where you want to save the Excel file in Colab\n",
        "folder_path = \"../PD/\"\n",
        "file_name = 'PD_CoGAN_NearMiss1.xlsx'\n",
        "os.makedirs(folder_path, exist_ok = True)\n",
        "df.to_excel(os.path.join(folder_path, file_name), index=False)\n",
        "\n",
        "# Print a message indicating the file has been saved\n",
        "print(f\"Excel file saved at: {folder_path}{file_name}\")"
      ],
      "metadata": {
        "colab": {
          "base_uri": "https://localhost:8080/"
        },
        "id": "kUHKyeSme03Y",
        "outputId": "a9e04ca9-2e3f-4f3e-ab6e-bf13c7a1b7df"
      },
      "execution_count": null,
      "outputs": [
        {
          "output_type": "stream",
          "name": "stdout",
          "text": [
            "Excel file saved at: /content/drive/MyDrive/CIHR/PD/PD_CoGAN_NearMiss1.xlsx\n"
          ]
        }
      ]
    },
    {
      "cell_type": "code",
      "source": [
        "from imblearn.under_sampling import NearMiss\n",
        "undersample = NearMiss(version=2, n_neighbors=3)\n",
        "# transform the dataset\n",
        "X_S, y_S = undersample.fit_resample(X, y)\n",
        "class_counts = pd.Series(y).value_counts()\n",
        "print(class_counts)\n",
        "NearMiss2_Data= pd.concat([X_S, y_S], axis =1)"
      ],
      "metadata": {
        "colab": {
          "base_uri": "https://localhost:8080/"
        },
        "id": "zleFz4JpfGJ4",
        "outputId": "58407efe-b413-4e95-da30-6d1818d99694"
      },
      "execution_count": null,
      "outputs": [
        {
          "output_type": "stream",
          "name": "stdout",
          "text": [
            "True     208\n",
            "False    142\n",
            "Name: status, dtype: int64\n"
          ]
        }
      ]
    },
    {
      "cell_type": "code",
      "source": [
        "df = pd.DataFrame(NearMiss2_Data)\n",
        "# Specify the full path where you want to save the Excel file in Colab\n",
        "folder_path = \"/content/drive/MyDrive/CIHR/PD/\"\n",
        "file_name = 'PD_CoGAN_NearMiss2.xlsx'\n",
        "os.makedirs(folder_path, exist_ok = True)\n",
        "df.to_excel(os.path.join(folder_path, file_name), index=False)\n",
        "\n",
        "# Print a message indicating the file has been saved\n",
        "print(f\"Excel file saved at: {folder_path}{file_name}\")"
      ],
      "metadata": {
        "colab": {
          "base_uri": "https://localhost:8080/"
        },
        "id": "ImRBAk3rftar",
        "outputId": "ba27e6ca-b24e-4bdb-ead9-8f38dbc35e59"
      },
      "execution_count": null,
      "outputs": [
        {
          "output_type": "stream",
          "name": "stdout",
          "text": [
            "Excel file saved at: /content/drive/MyDrive/CIHR/PD/PD_CoGAN_NearMiss2.xlsx\n"
          ]
        }
      ]
    },
    {
      "cell_type": "code",
      "source": [
        "from imblearn.under_sampling import NearMiss\n",
        "undersample = NearMiss(version=3, n_neighbors=3)\n",
        "# transform the dataset\n",
        "X_S, y_S = undersample.fit_resample(X, y)\n",
        "class_counts = pd.Series(y_S).value_counts()\n",
        "print(class_counts)\n",
        "NearMiss3_Data= pd.concat([X_S, y_S], axis =1)"
      ],
      "metadata": {
        "colab": {
          "base_uri": "https://localhost:8080/"
        },
        "id": "pi24CYtbgV0_",
        "outputId": "9cec2fa5-5593-45e8-84a3-0087526b9ab4"
      },
      "execution_count": null,
      "outputs": [
        {
          "output_type": "stream",
          "name": "stdout",
          "text": [
            "False    142\n",
            "True     138\n",
            "Name: status, dtype: int64\n"
          ]
        },
        {
          "output_type": "stream",
          "name": "stderr",
          "text": [
            "/usr/local/lib/python3.10/dist-packages/imblearn/under_sampling/_prototype_selection/_nearmiss.py:203: UserWarning: The number of the samples to be selected is larger than the number of samples available. The balancing ratio cannot be ensure and all samples will be returned.\n",
            "  warnings.warn(\n"
          ]
        }
      ]
    },
    {
      "cell_type": "code",
      "source": [
        "df = pd.DataFrame(NearMiss3_Data)\n",
        "# Specify the full path where you want to save the Excel file in Colab\n",
        "folder_path = \"../PD/\"\n",
        "file_name = 'PD_CoGAN_NearMiss3.xlsx'\n",
        "os.makedirs(folder_path, exist_ok = True)\n",
        "df.to_excel(os.path.join(folder_path, file_name), index=False)\n",
        "\n",
        "# Print a message indicating the file has been saved\n",
        "print(f\"Excel file saved at: {folder_path}{file_name}\")"
      ],
      "metadata": {
        "colab": {
          "base_uri": "https://localhost:8080/"
        },
        "id": "J1K5a6q8gjTc",
        "outputId": "effc3f90-34d0-4ed7-8c43-61fb6dc0c403"
      },
      "execution_count": null,
      "outputs": [
        {
          "output_type": "stream",
          "name": "stdout",
          "text": [
            "Excel file saved at: /content/drive/MyDrive/CIHR/PD/PD_CoGAN_NearMiss3.xlsx\n"
          ]
        }
      ]
    },
    {
      "cell_type": "code",
      "source": [
        "from imblearn.under_sampling import CondensedNearestNeighbour\n",
        "undersample = CondensedNearestNeighbour(n_neighbors=3)\n",
        "X_S, y_S = undersample.fit_resample(X, y)\n",
        "# transform the dataset\n",
        "class_counts = pd.Series(y_S).value_counts()\n",
        "print(class_counts)\n",
        "CNN_Data= pd.concat([X_S, y_S], axis =1)"
      ],
      "metadata": {
        "colab": {
          "base_uri": "https://localhost:8080/"
        },
        "id": "HsfmvybxguDK",
        "outputId": "15f8c3a6-bf41-4346-a78b-2ab4c7f99d5f"
      },
      "execution_count": null,
      "outputs": [
        {
          "output_type": "stream",
          "name": "stdout",
          "text": [
            "False    142\n",
            "True      98\n",
            "Name: status, dtype: int64\n"
          ]
        }
      ]
    },
    {
      "cell_type": "code",
      "source": [
        "df = pd.DataFrame(CNN_Data)\n",
        "# Specify the full path where you want to save the Excel file in Colab\n",
        "folder_path = \"../PD/\"\n",
        "file_name = 'PD_CoGAN_CNN.xlsx'\n",
        "os.makedirs(folder_path, exist_ok = True)\n",
        "df.to_excel(os.path.join(folder_path, file_name), index=False)\n",
        "\n",
        "# Print a message indicating the file has been saved\n",
        "print(f\"Excel file saved at: {folder_path}{file_name}\")"
      ],
      "metadata": {
        "colab": {
          "base_uri": "https://localhost:8080/"
        },
        "id": "8ewjBdUng70r",
        "outputId": "00b53c64-f1fc-4186-fe3f-4555c2dcb183"
      },
      "execution_count": null,
      "outputs": [
        {
          "output_type": "stream",
          "name": "stdout",
          "text": [
            "Excel file saved at: /content/drive/MyDrive/CIHR/PD/PD_CoGAN_CNN.xlsx\n"
          ]
        }
      ]
    },
    {
      "cell_type": "code",
      "source": [
        "from imblearn.under_sampling import TomekLinks\n",
        "undersample = TomekLinks(sampling_strategy='majority')\n",
        "X_S, y_S = undersample.fit_resample(X, y)\n",
        "# transform the dataset\n",
        "class_counts = pd.Series(y_S).value_counts()\n",
        "print(class_counts)\n",
        "TomekLinks_Data= pd.concat([X_S, y_S], axis =1)"
      ],
      "metadata": {
        "colab": {
          "base_uri": "https://localhost:8080/"
        },
        "id": "8yxXtyl-hF9y",
        "outputId": "fea2a419-2634-4f09-d72f-1f8d682ad19f"
      },
      "execution_count": null,
      "outputs": [
        {
          "output_type": "stream",
          "name": "stdout",
          "text": [
            "True     182\n",
            "False    142\n",
            "Name: status, dtype: int64\n"
          ]
        }
      ]
    },
    {
      "cell_type": "code",
      "source": [
        "df = pd.DataFrame(TomekLinks_Data)\n",
        "# Specify the full path where you want to save the Excel file in Colab\n",
        "folder_path = \"/content/drive/MyDrive/CIHR/PD/\"\n",
        "file_name = 'PD_CoGAN_TomekLinks.xlsx'\n",
        "os.makedirs(folder_path, exist_ok = True)\n",
        "df.to_excel(os.path.join(folder_path, file_name), index=False)\n",
        "\n",
        "# Print a message indicating the file has been saved\n",
        "print(f\"Excel file saved at: {folder_path}{file_name}\")"
      ],
      "metadata": {
        "colab": {
          "base_uri": "https://localhost:8080/"
        },
        "id": "pu4RtgnyhYx9",
        "outputId": "f9ea0122-6ff3-4c16-ea2d-d4a4c6d5052f"
      },
      "execution_count": null,
      "outputs": [
        {
          "output_type": "stream",
          "name": "stdout",
          "text": [
            "Excel file saved at: /content/drive/MyDrive/CIHR/PD/PD_CoGAN_TomekLinks.xlsx\n"
          ]
        }
      ]
    },
    {
      "cell_type": "code",
      "source": [
        "from imblearn.under_sampling import EditedNearestNeighbours\n",
        "undersample = EditedNearestNeighbours()\n",
        "X_S, y_S = undersample.fit_resample(X, y)\n",
        "# transform the dataset\n",
        "class_counts = pd.Series(y_S).value_counts()\n",
        "print(class_counts)\n",
        "ENN_Data= pd.concat([X_S, y_S], axis =1)"
      ],
      "metadata": {
        "colab": {
          "base_uri": "https://localhost:8080/"
        },
        "id": "pihCXAo5hr2i",
        "outputId": "6243d075-e604-4b44-ca41-5a6ecebc4c00"
      },
      "execution_count": null,
      "outputs": [
        {
          "output_type": "stream",
          "name": "stdout",
          "text": [
            "False    142\n",
            "True     109\n",
            "Name: status, dtype: int64\n"
          ]
        }
      ]
    },
    {
      "cell_type": "code",
      "source": [
        "df = pd.DataFrame(ENN_Data)\n",
        "# Specify the full path where you want to save the Excel file in Colab\n",
        "folder_path = \"../PD/\"\n",
        "file_name = 'PD_CoGAN_ENN.xlsx'\n",
        "os.makedirs(folder_path, exist_ok = True)\n",
        "df.to_excel(os.path.join(folder_path, file_name), index=False)\n",
        "\n",
        "# Print a message indicating the file has been saved\n",
        "print(f\"Excel file saved at: {folder_path}{file_name}\")"
      ],
      "metadata": {
        "colab": {
          "base_uri": "https://localhost:8080/"
        },
        "id": "uK5rfucGhwYZ",
        "outputId": "b7eded2d-53dd-4fe5-e6f1-86c766a89f6d"
      },
      "execution_count": null,
      "outputs": [
        {
          "output_type": "stream",
          "name": "stdout",
          "text": [
            "Excel file saved at: /content/drive/MyDrive/CIHR/PD/PD_CoGAN_ENN.xlsx\n"
          ]
        }
      ]
    },
    {
      "cell_type": "code",
      "source": [
        "from imblearn.under_sampling import ClusterCentroids\n",
        "undersample = ClusterCentroids(random_state=0)\n",
        "X_S, y_S = undersample.fit_resample(X, y)\n",
        "class_counts = pd.Series(y_S).value_counts()\n",
        "print(class_counts)\n",
        "CC_Data= pd.concat([X_S, y_S], axis =1)"
      ],
      "metadata": {
        "colab": {
          "base_uri": "https://localhost:8080/"
        },
        "id": "p6aJFUi3h3ZL",
        "outputId": "d9b8d6d8-e6b1-42bd-9cd8-98778465eff4"
      },
      "execution_count": null,
      "outputs": [
        {
          "output_type": "stream",
          "name": "stderr",
          "text": [
            "/usr/local/lib/python3.10/dist-packages/sklearn/cluster/_kmeans.py:870: FutureWarning: The default value of `n_init` will change from 10 to 'auto' in 1.4. Set the value of `n_init` explicitly to suppress the warning\n",
            "  warnings.warn(\n"
          ]
        },
        {
          "output_type": "stream",
          "name": "stdout",
          "text": [
            "False    142\n",
            "True     142\n",
            "Name: status, dtype: int64\n"
          ]
        }
      ]
    },
    {
      "cell_type": "code",
      "source": [
        "df = pd.DataFrame(CC_Data)\n",
        "# Specify the full path where you want to save the Excel file in Colab\n",
        "folder_path = \"../PD/\"\n",
        "file_name = 'PD_CoGAN_CC.xlsx'\n",
        "os.makedirs(folder_path, exist_ok = True)\n",
        "df.to_excel(os.path.join(folder_path, file_name), index=False)\n",
        "\n",
        "# Print a message indicating the file has been saved\n",
        "print(f\"Excel file saved at: {folder_path}{file_name}\")"
      ],
      "metadata": {
        "colab": {
          "base_uri": "https://localhost:8080/"
        },
        "id": "dO1alZLxh87Y",
        "outputId": "1dab9f68-cd24-43e7-a6fa-c05939c1fd5e"
      },
      "execution_count": null,
      "outputs": [
        {
          "output_type": "stream",
          "name": "stdout",
          "text": [
            "Excel file saved at: /content/drive/MyDrive/CIHR/PD/PD_CoGAN_CC.xlsx\n"
          ]
        }
      ]
    },
    {
      "cell_type": "code",
      "source": [
        "from imblearn.under_sampling import RandomUnderSampler\n",
        "undersample= RandomUnderSampler(random_state=0)\n",
        "X_S, y_S = undersample.fit_resample(X, y)\n",
        "class_counts = pd.Series(y_S).value_counts()\n",
        "print(class_counts)\n",
        "RUS_Data= pd.concat([X_S, y_S], axis =1)"
      ],
      "metadata": {
        "colab": {
          "base_uri": "https://localhost:8080/"
        },
        "id": "tmVoFEVuiDgZ",
        "outputId": "53722f5d-f3af-4f1a-ae5f-ce76e515f160"
      },
      "execution_count": null,
      "outputs": [
        {
          "output_type": "stream",
          "name": "stdout",
          "text": [
            "False    142\n",
            "True     142\n",
            "Name: status, dtype: int64\n"
          ]
        }
      ]
    },
    {
      "cell_type": "code",
      "source": [
        "df = pd.DataFrame(RUS_Data)\n",
        "# Specify the full path where you want to save the Excel file in Colab\n",
        "folder_path = \"../PD/\"\n",
        "file_name = 'PD_CoGAN_RUS.xlsx'\n",
        "os.makedirs(folder_path, exist_ok = True)\n",
        "df.to_excel(os.path.join(folder_path, file_name), index=False)\n",
        "\n",
        "# Print a message indicating the file has been saved\n",
        "print(f\"Excel file saved at: {folder_path}{file_name}\")"
      ],
      "metadata": {
        "colab": {
          "base_uri": "https://localhost:8080/"
        },
        "id": "8eTgQ-djiPbA",
        "outputId": "664b351c-b4fd-4183-93d1-b4daff44297b"
      },
      "execution_count": null,
      "outputs": [
        {
          "output_type": "stream",
          "name": "stdout",
          "text": [
            "Excel file saved at: /content/drive/MyDrive/CIHR/PD/PD_CoGAN_RUS.xlsx\n"
          ]
        }
      ]
    },
    {
      "cell_type": "code",
      "source": [
        "from sklearn.linear_model import LogisticRegression\n",
        "from imblearn.under_sampling import InstanceHardnessThreshold\n",
        "undersample = InstanceHardnessThreshold(random_state=0, estimator=LogisticRegression(solver='lbfgs', multi_class='auto'))\n",
        "X_S= []\n",
        "y_S = []\n",
        "X_S, y_S = undersample.fit_resample(X, y)\n",
        "class_counts = pd.Series(y_S).value_counts()\n",
        "print(class_counts)\n",
        "IHT_Data= pd.concat([X_S, y_S], axis =1)"
      ],
      "metadata": {
        "id": "bxDcNdhDiVTd"
      },
      "execution_count": null,
      "outputs": []
    },
    {
      "cell_type": "code",
      "source": [
        "from imblearn.under_sampling import RepeatedEditedNearestNeighbours\n",
        "undersample = RepeatedEditedNearestNeighbours()\n",
        "X_S, y_S = undersample.fit_resample(X, y)\n",
        "class_counts = pd.Series(y_S).value_counts()\n",
        "print(class_counts)\n",
        "RENN_Data= pd.concat([X_S, y_S], axis =1)\n"
      ],
      "metadata": {
        "colab": {
          "base_uri": "https://localhost:8080/"
        },
        "id": "n_m_zN9DieEf",
        "outputId": "67a5d26a-32e6-46fa-ba82-e719ea213853"
      },
      "execution_count": null,
      "outputs": [
        {
          "output_type": "stream",
          "name": "stdout",
          "text": [
            "False    142\n",
            "True     109\n",
            "Name: status, dtype: int64\n"
          ]
        }
      ]
    },
    {
      "cell_type": "code",
      "source": [
        "df = pd.DataFrame(RENN_Data)\n",
        "# Specify the full path where you want to save the Excel file in Colab\n",
        "folder_path = \"../PD/\"\n",
        "file_name = 'PD_CoGAN_RENN.xlsx'\n",
        "os.makedirs(folder_path, exist_ok = True)\n",
        "df.to_excel(os.path.join(folder_path, file_name), index=False)\n",
        "\n",
        "# Print a message indicating the file has been saved\n",
        "print(f\"Excel file saved at: {folder_path}{file_name}\")"
      ],
      "metadata": {
        "colab": {
          "base_uri": "https://localhost:8080/"
        },
        "id": "Z_VPQufWifse",
        "outputId": "85aa2682-b411-484b-9d8c-dc7e84834f3c"
      },
      "execution_count": null,
      "outputs": [
        {
          "output_type": "stream",
          "name": "stdout",
          "text": [
            "Excel file saved at: /content/drive/MyDrive/CIHR/PD/PD_CoGAN_RENN.xlsx\n"
          ]
        }
      ]
    },
    {
      "cell_type": "code",
      "source": [
        "from imblearn.under_sampling import AllKNN\n",
        "undersample = AllKNN()\n",
        "X_S, y_S = undersample.fit_resample(X, y)\n",
        "class_counts = pd.Series(y_S).value_counts()\n",
        "print(class_counts)\n",
        "AllKNN_Data= pd.concat([X_S, y_S], axis =1)"
      ],
      "metadata": {
        "colab": {
          "base_uri": "https://localhost:8080/"
        },
        "id": "j-GuNFY_inIh",
        "outputId": "68fb7f8b-b324-4904-9aaf-5c38d35ac425"
      },
      "execution_count": null,
      "outputs": [
        {
          "output_type": "stream",
          "name": "stdout",
          "text": [
            "False    142\n",
            "True     122\n",
            "Name: status, dtype: int64\n"
          ]
        }
      ]
    },
    {
      "cell_type": "code",
      "source": [
        "df = pd.DataFrame(AllKNN_Data)\n",
        "# Specify the full path where you want to save the Excel file in Colab\n",
        "folder_path = \"../PD/\"\n",
        "file_name = 'PD_CoGAN_AllKNN.xlsx'\n",
        "os.makedirs(folder_path, exist_ok = True)\n",
        "df.to_excel(os.path.join(folder_path, file_name), index=False)\n",
        "# Print a message indicating the file has been saved\n",
        "print(f\"Excel file saved at: {folder_path}{file_name}\")"
      ],
      "metadata": {
        "colab": {
          "base_uri": "https://localhost:8080/"
        },
        "id": "nvaHQ353iqhV",
        "outputId": "f07fa424-0569-45c5-b86b-15fda56c7436"
      },
      "execution_count": null,
      "outputs": [
        {
          "output_type": "stream",
          "name": "stdout",
          "text": [
            "Excel file saved at: /content/drive/MyDrive/CIHR/PD/PD_CoGAN_AllKNN.xlsx\n"
          ]
        }
      ]
    },
    {
      "cell_type": "code",
      "source": [
        "from imblearn.under_sampling import OneSidedSelection\n",
        "undersample = OneSidedSelection(n_neighbors=1, n_seeds_S=200)\n",
        "# transform the dataset\n",
        "X_S, y_S = undersample.fit_resample(X, y)\n",
        "class_counts = pd.Series(y_S).value_counts()\n",
        "print(class_counts)\n",
        "OSS_Data= pd.concat([X_S, y_S], axis =1)"
      ],
      "metadata": {
        "colab": {
          "base_uri": "https://localhost:8080/"
        },
        "id": "hPgkjGOnitb7",
        "outputId": "d8122b48-f0b6-4ab4-d5fe-835c8515bace"
      },
      "execution_count": null,
      "outputs": [
        {
          "output_type": "stream",
          "name": "stdout",
          "text": [
            "True     204\n",
            "False    142\n",
            "Name: status, dtype: int64\n"
          ]
        }
      ]
    },
    {
      "cell_type": "code",
      "source": [
        "df = pd.DataFrame(OSS_Data)\n",
        "# Specify the full path where you want to save the Excel file in Colab\n",
        "folder_path = \"../PD/\"\n",
        "file_name = 'PD_CoGAN_OSS_Data.xlsx'\n",
        "os.makedirs(folder_path, exist_ok = True)\n",
        "df.to_excel(os.path.join(folder_path, file_name), index=False)\n",
        "# Print a message indicating the file has been saved\n",
        "print(f\"Excel file saved at: {folder_path}{file_name}\")"
      ],
      "metadata": {
        "colab": {
          "base_uri": "https://localhost:8080/"
        },
        "id": "p4hmR0I2iyE_",
        "outputId": "4f6a55b9-20e1-4e44-9e50-6ce85ad9c512"
      },
      "execution_count": null,
      "outputs": [
        {
          "output_type": "stream",
          "name": "stdout",
          "text": [
            "Excel file saved at: /content/drive/MyDrive/CIHR/PD/PD_CoGAN_OSS_Data.xlsx\n"
          ]
        }
      ]
    }
  ],
  "metadata": {
    "accelerator": "TPU",
    "colab": {
      "machine_shape": "hm",
      "provenance": []
    },
    "kernelspec": {
      "display_name": "Python 3",
      "name": "python3"
    },
    "language_info": {
      "name": "python"
    }
  },
  "nbformat": 4,
  "nbformat_minor": 0
}